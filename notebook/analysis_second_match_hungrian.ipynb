{
 "cells": [
  {
   "cell_type": "markdown",
   "metadata": {},
   "source": [
    "# Test Book\n",
    "We will show the differences between different matching as well as secondary matching algorithms in multiple scenarios.\n",
    "## Directory\n",
    "1. Test, hungarian VS forloops\n",
    "2. Test, only distances VS second match with mask iou >0\n",
    "3. Test, mask_iou > 0 and distance VS distance+(1-mask_iou) in second match method.\n",
    "4. Test, bbox_iou VS mask_iou\n",
    "5. Conclusions"
   ]
  },
  {
   "cell_type": "markdown",
   "metadata": {},
   "source": [
    "## Define the match functions for forloops/hungarian"
   ]
  },
  {
   "cell_type": "code",
   "execution_count": null,
   "metadata": {},
   "outputs": [],
   "source": [
    "from scipy.optimize import linear_sum_assignment\n",
    "import numpy as np\n",
    "def forloops_match(distances, dis_thr):\n",
    "    to_mark_matched = distances.copy()\n",
    "    num_gt = distances.shape[0]\n",
    "    num_pred = distances.shape[1]\n",
    "    for i in range(num_gt):\n",
    "        for j in range(num_pred):\n",
    "            if distances[i, j] < dis_thr:\n",
    "                print(f\"TP: index is [{i}, {j}], row_index={i}, col_index={j}\")\n",
    "                to_mark_matched[i,j] = np.nan\n",
    "                break \n",
    "    to_mark_matched= np.isnan(to_mark_matched)\n",
    "    for i in range(num_gt):\n",
    "        for j in range(num_pred):\n",
    "            if not to_mark_matched[i,j]:\n",
    "                print(f\"FP: index is [{i}, {j}], row_index={i}, col_index={j}.\")\n",
    "\n",
    "\n",
    "def hungarian_match(distances, dis_thr):\n",
    "    to_mark_matched = distances.copy()\n",
    "    num_gt = distances.shape[0]\n",
    "    num_pred = distances.shape[1]\n",
    "    if np.all(np.isinf(distances)):\n",
    "        # fix cost matrix feasible, like [[np.inf, np.inf]]\n",
    "        row = np.empty(1)\n",
    "        col = np.empty(1)\n",
    "        matched = np.empty(0).astype(\"bool\")\n",
    "    else:\n",
    "        row, col = linear_sum_assignment(distances)\n",
    "        select_distances = distances[row, col]\n",
    "        matched = select_distances < dis_thr\n",
    "    for i, j in zip(row[matched], col[matched]):\n",
    "        print(f\"TP: index is [{i}, {j}], row_index={i}, col_index={j}\")\n",
    "        to_mark_matched[i,j] = np.nan\n",
    "    to_mark_matched= np.isnan(to_mark_matched)\n",
    "    for i in range(num_gt):\n",
    "        for j in range(num_pred):\n",
    "            if not to_mark_matched[i,j]:\n",
    "                print(f\"FP: index is [{i}, {j}], row_index={i}, col_index={j}.\")"
   ]
  },
  {
   "cell_type": "markdown",
   "metadata": {},
   "source": [
    "## Test, hungarian VS forloops"
   ]
  },
  {
   "cell_type": "markdown",
   "metadata": {},
   "source": [
    "In this scenario, we assume that there is 1 GT, 3 Pred, row means GT and column means Pred.  \n",
    "We assume that the Euclidean distance `dis_thr=3`.  \n",
    "Obviously, we expect the result that the Pred with `index=[0, 1]` is assigned to that GT, since the Euclidean distance between the two is `distance=1`.  "
   ]
  },
  {
   "cell_type": "code",
   "execution_count": null,
   "metadata": {},
   "outputs": [],
   "source": [
    "# Settings\n",
    "distances = np.array([[2.5, 1, 1.8]])\n",
    "dis_thr = 3\n",
    "num_gt = distances.shape[0] # 1\n",
    "num_pred = distances.shape[1] # 3"
   ]
  },
  {
   "cell_type": "markdown",
   "metadata": {},
   "source": [
    "### Hungarian"
   ]
  },
  {
   "cell_type": "code",
   "execution_count": null,
   "metadata": {},
   "outputs": [],
   "source": [
    "hungarian_match(distances, dis_thr)"
   ]
  },
  {
   "cell_type": "markdown",
   "metadata": {},
   "source": [
    "### Forloops"
   ]
  },
  {
   "cell_type": "code",
   "execution_count": null,
   "metadata": {},
   "outputs": [],
   "source": [
    "forloops_match(distances, dis_thr)"
   ]
  },
  {
   "cell_type": "markdown",
   "metadata": {},
   "source": [
    "### Conclusion\n",
    "Obviously, the Hungarian is more accurate!"
   ]
  },
  {
   "cell_type": "markdown",
   "metadata": {},
   "source": [
    "## Test, only distances VS second match with mask iou >0\n"
   ]
  },
  {
   "cell_type": "markdown",
   "metadata": {},
   "source": [
    "In this scenario, we assume that GT and the two Pred have the same Euclidean distance, but one `iou=0` and one `iou=0.8`.  \n",
    "We assume that the Euclidean distance `dis_thr=3`.  \n",
    "Obviously, we expect the Pred with `index=[0, 1]` to be assigned to this gt, because they have the `iou=0.8`."
   ]
  },
  {
   "cell_type": "code",
   "execution_count": null,
   "metadata": {},
   "outputs": [],
   "source": [
    "distances = np.array([[1.2, 1.2, 1.8]])\n",
    "mask_iou = np.array([[0, 0.8, 0.]])\n",
    "dis_thr = 3"
   ]
  },
  {
   "cell_type": "markdown",
   "metadata": {},
   "source": [
    "### Forloops for pure distance matching"
   ]
  },
  {
   "cell_type": "code",
   "execution_count": null,
   "metadata": {},
   "outputs": [],
   "source": [
    "forloops_match(distances, dis_thr)"
   ]
  },
  {
   "cell_type": "markdown",
   "metadata": {},
   "source": [
    "### Hungarian for pure distance matching"
   ]
  },
  {
   "cell_type": "code",
   "execution_count": null,
   "metadata": {},
   "outputs": [],
   "source": [
    "hungarian_match(distances, dis_thr)"
   ]
  },
  {
   "cell_type": "markdown",
   "metadata": {},
   "source": [
    "### Forloops for second match method with mask_iou > 0"
   ]
  },
  {
   "cell_type": "code",
   "execution_count": null,
   "metadata": {},
   "outputs": [],
   "source": [
    "# first, filter out the non-overlapping pairs of gt and pred. \n",
    "# This is much faster than \"first match -> second match\".\n",
    "tmp_mask_iou = mask_iou.copy()\n",
    "tmp_mask_iou[tmp_mask_iou == 0.] = np.inf\n",
    "tmp_mask_iou[tmp_mask_iou != np.inf] = 0.\n",
    "\n",
    "# Turns unqualified distances into inf so that they can't be matched together, because inf > dis_thr.\n",
    "tmp_dis = distances + tmp_mask_iou\n",
    "forloops_match(tmp_dis, dis_thr)"
   ]
  },
  {
   "cell_type": "markdown",
   "metadata": {},
   "source": [
    "### Hungarian for second match method with mask_iou > 0"
   ]
  },
  {
   "cell_type": "code",
   "execution_count": null,
   "metadata": {},
   "outputs": [],
   "source": [
    "hungarian_match(tmp_dis, dis_thr)"
   ]
  },
  {
   "cell_type": "markdown",
   "metadata": {},
   "source": [
    "### Conclusion\n",
    "Neither Hungarian matching nor forloops work well when matching using only distances in this scenario (same distance).  \n",
    "And the second match (`mask_iou >0`) can works well in this scenario."
   ]
  },
  {
   "cell_type": "markdown",
   "metadata": {},
   "source": [
    "## Test, mask_iou > 0 VS distance+(1-mask_iou) in second match.\n",
    "In this scenario, we assume that GT and the two Pred have the same Euclidean distance, but one `iou=0.7` and one `iou=0.8`.  \n",
    "We assume that the Euclidean distance `dis_thr=3`.  \n",
    "Obviously, we expect the Pred with `index=[0, 1]` to be assigned to this gt, because they have the `iou=0.8`.\n"
   ]
  },
  {
   "cell_type": "code",
   "execution_count": null,
   "metadata": {},
   "outputs": [],
   "source": [
    "distances = np.array([[1.2, 1.2, 1.8]])\n",
    "mask_iou = np.array([[0.7, 0.8, 0.]])\n",
    "dis_thr = 3"
   ]
  },
  {
   "cell_type": "markdown",
   "metadata": {},
   "source": [
    "### Forloops for mask_iou > 0"
   ]
  },
  {
   "cell_type": "code",
   "execution_count": null,
   "metadata": {},
   "outputs": [],
   "source": [
    "tmp_mask_iou = mask_iou.copy()\n",
    "tmp_mask_iou[tmp_mask_iou == 0.] = np.inf\n",
    "tmp_mask_iou[tmp_mask_iou != np.inf] = 0.\n",
    "\n",
    "# Turns unqualified value into inf so that they can't be matched together.\n",
    "tmp_dis = distances + tmp_mask_iou\n",
    "forloops_match(tmp_dis, dis_thr)"
   ]
  },
  {
   "cell_type": "markdown",
   "metadata": {},
   "source": [
    "### Hungarian for mask_iou > 0"
   ]
  },
  {
   "cell_type": "code",
   "execution_count": null,
   "metadata": {},
   "outputs": [],
   "source": [
    "hungarian_match(tmp_dis, dis_thr)"
   ]
  },
  {
   "cell_type": "markdown",
   "metadata": {},
   "source": [
    "### Forloops for distance + (1-mask_iou)"
   ]
  },
  {
   "cell_type": "code",
   "execution_count": null,
   "metadata": {},
   "outputs": [],
   "source": [
    "tmp_mask_iou = mask_iou.copy()\n",
    "tmp_mask_iou[tmp_mask_iou == 0.] = -np.inf\n",
    "dis_plus_mask = distances + (1-tmp_mask_iou)\n",
    "forloops_match(dis_plus_mask, dis_thr)"
   ]
  },
  {
   "cell_type": "markdown",
   "metadata": {},
   "source": [
    "### Hungarian for distance + (1-mask_iou)"
   ]
  },
  {
   "cell_type": "code",
   "execution_count": null,
   "metadata": {},
   "outputs": [],
   "source": [
    "hungarian_match(dis_plus_mask, dis_thr) "
   ]
  },
  {
   "cell_type": "markdown",
   "metadata": {},
   "source": [
    "### Conclusion\n",
    "Obviously, `forloops with distances + (1-mask_iou)` still don't work very well, but `hungarian with distance + (1-mask_iou)` can.\n"
   ]
  },
  {
   "cell_type": "markdown",
   "metadata": {},
   "source": [
    "## Test, bbox_iou VS mask_iou\n",
    "\n",
    "Consider a scenario like the one below, assuming that the aircraft on the left of the figure is gt and the aircraft on the right is pred. Between them `mask_iou=0`, but `bbox_iou!=0`.  \n",
    "We assume that the `distance=7`,  `bbox_iou=0.1` and `threshold=8`.  \n",
    "\n",
    "Obviously, we don't want to match them together.  "
   ]
  },
  {
   "cell_type": "markdown",
   "metadata": {},
   "source": [
    "![](https://songjimagebed.oss-cn-beijing.aliyuncs.com/ce42d1ffec4b48ab59e853ea3f03301.png)"
   ]
  },
  {
   "cell_type": "code",
   "execution_count": null,
   "metadata": {},
   "outputs": [],
   "source": [
    "\n",
    "distances = np.array([[7.0]])\n",
    "mask_iou = np.array([[0.0]])\n",
    "bbox_iou = np.array([[0.1]])\n",
    "dis_thr = 8"
   ]
  },
  {
   "cell_type": "markdown",
   "metadata": {},
   "source": [
    "### Hungarian for distances + (1-bbox_iou)"
   ]
  },
  {
   "cell_type": "code",
   "execution_count": null,
   "metadata": {},
   "outputs": [],
   "source": [
    "tmp_bbox_iou = bbox_iou.copy()\n",
    "tmp_bbox_iou[tmp_bbox_iou == 0.] = -np.inf\n",
    "dis_plus_bbox_iou = distances + (1- tmp_bbox_iou)\n",
    "hungarian_match(dis_plus_bbox_iou, dis_thr)"
   ]
  },
  {
   "cell_type": "markdown",
   "metadata": {},
   "source": [
    "### Hungarian for distances + (1-mask_iou)"
   ]
  },
  {
   "cell_type": "code",
   "execution_count": null,
   "metadata": {},
   "outputs": [],
   "source": [
    "tmp_mask_iou = mask_iou.copy()\n",
    "tmp_mask_iou[tmp_mask_iou == 0.] = -np.inf\n",
    "dis_plus_mask = distances + (1-tmp_mask_iou)\n",
    "hungarian_match(dis_plus_mask, dis_thr)"
   ]
  },
  {
   "cell_type": "markdown",
   "metadata": {},
   "source": [
    "### Conclusion\n",
    "Obviously, `bbox_iou` can't solve this situation very well, but `mask_iou` can"
   ]
  },
  {
   "cell_type": "markdown",
   "metadata": {},
   "source": [
    "## Conclusions\n",
    "Through the above simple experiment, we can find\n",
    "1. `hungarian_match` is usually more accurate than `forloops_match`.\n",
    "2. The secondary matching method is more accurate than using only Euclidean distances.\n",
    "3. `distances + (1-mask_iou)` are more accurate than `mask_iou > 0` in second match method.\n",
    "4. `mask_iou` is more accurate than `bbox_iou`"
   ]
  },
  {
   "cell_type": "markdown",
   "metadata": {},
   "source": []
  }
 ],
 "metadata": {
  "kernelspec": {
   "display_name": "dr",
   "language": "python",
   "name": "python3"
  },
  "language_info": {
   "codemirror_mode": {
    "name": "ipython",
    "version": 3
   },
   "file_extension": ".py",
   "mimetype": "text/x-python",
   "name": "python",
   "nbconvert_exporter": "python",
   "pygments_lexer": "ipython3",
   "version": "3.8.0"
  }
 },
 "nbformat": 4,
 "nbformat_minor": 2
}
